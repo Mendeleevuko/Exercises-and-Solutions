{
 "cells": [
  {
   "cell_type": "code",
   "execution_count": null,
   "metadata": {},
   "outputs": [],
   "source": [
    "\"\"\"Create an empty list called resps. Using the list percent_rain, for each percent, \n",
    "if it is above 90, add the string ‘Bring an umbrella.’ to resps, otherwise if it is above 80, \n",
    "add the string ‘Good for the flowers?’ to resps, otherwise if it is above 50, add the string ‘Watch out for clouds!’ to resps, \n",
    "otherwise, add the string ‘Nice day!’ to resps.  \"\"\"\n",
    "\n",
    "percent_rain = [94.3, 45, 100, 78, 16, 5.3, 79, 86]\n",
    "resps = list()\n",
    "for percent in percent_rain:\n",
    "    if (percent > 90.0):\n",
    "        resps.append(\"Bring an umbrella.\")\n",
    "    elif (percent > 80.0) and (percent < 90.0):\n",
    "        resps.append(\"Good for the flowers?\")\n",
    "    elif (percent > 50.0) and percent < 80.0:\n",
    "        resps.append(\"Watch out for clouds!\")\n",
    "        #resps += \"Watch out for clouds!\"\n",
    "    else:\n",
    "        resps.append(\"Nice day!\")\n",
    "print(resps)"
   ]
  }
 ],
 "metadata": {
  "kernelspec": {
   "display_name": "Python 3",
   "language": "python",
   "name": "python3"
  },
  "language_info": {
   "codemirror_mode": {
    "name": "ipython",
    "version": 3
   },
   "file_extension": ".py",
   "mimetype": "text/x-python",
   "name": "python",
   "nbconvert_exporter": "python",
   "pygments_lexer": "ipython3",
   "version": "3.7.1"
  }
 },
 "nbformat": 4,
 "nbformat_minor": 2
}
