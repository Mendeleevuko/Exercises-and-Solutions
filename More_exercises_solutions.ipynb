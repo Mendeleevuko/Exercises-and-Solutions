{
 "cells": [
  {
   "cell_type": "code",
   "execution_count": null,
   "metadata": {},
   "outputs": [],
   "source": [
    "\"\"\"Write code that uses iteration to print out the length of each element of the list stored in str_list. \"\"\"\n",
    "str_list = [\"hello\", \"\", \"goodbye\", \"wonderful\", \"I love Python\"]\n",
    "for word in str_list:\n",
    "    print(len(word))"
   ]
  },
  {
   "cell_type": "code",
   "execution_count": null,
   "metadata": {},
   "outputs": [],
   "source": [
    "\"\"\"What happens if you put the initialization of accum inside the for loop as the first instruction in the loop?\"\"\"\n",
    "nums = [1, 2, 3, 4, 5, 6, 7, 8, 9, 10]\n",
    "for w in nums:\n",
    "   accum = 0\n",
    "   accum = accum + w\n",
    "print(accum)\n",
    "\"\"\"It will print out 10 instead of 55\"\"\""
   ]
  },
  {
   "cell_type": "code",
   "execution_count": null,
   "metadata": {},
   "outputs": [],
   "source": [
    "\"\"\"Use indexing to assign the element ‘horse’ to the variable name idx1.\"\"\"\n",
    "animals = [['cat', 'dog', 'mouse'], ['horse', 'cow', 'goat'], ['cheetah', 'giraffe', 'rhino']]\n",
    "\n",
    "idx1=animals[1][0]\n",
    "idx1"
   ]
  },
  {
   "cell_type": "code",
   "execution_count": null,
   "metadata": {},
   "outputs": [],
   "source": [
    "\"\"\"Using indexing, retrieve the string ‘willow’ from the list and assign that to the variable plant.\"\"\"\n",
    "data = ['bagel', 'cream cheese', 'breakfast', 'grits', 'eggs', 'bacon', [34, 9, 73, []], [['willow', 'birch', 'elm'], 'apple', 'peach', 'cherry']]\n",
    "\n",
    "plant=data[7][0][0]\n",
    "print(plant)"
   ]
  },
  {
   "cell_type": "code",
   "execution_count": null,
   "metadata": {},
   "outputs": [],
   "source": [
    "\"\"\" Extract the value associated with the key color and assign it to the variable color. Do not hard code this.\"\"\"\n",
    "\n",
    "info = {'personal_data':\n",
    "         {'name': 'Lauren',\n",
    "          'age': 20,\n",
    "          'major': 'Information Science',\n",
    "          'physical_features':\n",
    "             {'color': {'eye': 'blue',\n",
    "                        'hair': 'brown'},\n",
    "              'height': \"5'8\"}\n",
    "         },\n",
    "       'other':\n",
    "         {'favorite_colors': ['purple', 'green', 'blue'],\n",
    "          'interested_in': ['social media', 'intellectual property', 'copyright', 'music', 'books']\n",
    "         }\n",
    "      }\n",
    "\n",
    "\n",
    "color = info[\"personal_data\"][\"physical_features\"][\"color\"]\n",
    "print(color)\n",
    "print(\"***After assigning new value to color***\")\n",
    "print(\"-\"*40)\n",
    "\"\"\"Assign a new value to dictionary color\"\"\"\n",
    "info[\"personal_data\"][\"physical_features\"][\"color\"] = 200\n",
    "print(info)"
   ]
  },
  {
   "cell_type": "code",
   "execution_count": null,
   "metadata": {},
   "outputs": [],
   "source": [
    "\"\"\"Below, we have provided a list of lists that contain information about people. Write code to create a new list that contains \n",
    "every person’s last name, and save that list as last_names.\"\"\"\n",
    "\n",
    "info = [['Tina', 'Turner', 1939, 'singer'], ['Matt', 'Damon', 1970, 'actor'], ['Kristen', 'Wiig', 1973, 'comedian'], ['Michael', 'Phelps', 1985, 'swimmer'], ['Barack', 'Obama', 1961, 'president']]\n",
    "last_names = []\n",
    "for entertainer in info:\n",
    "    last_names.append(entertainer[1])\n",
    "print(last_names)"
   ]
  },
  {
   "cell_type": "code",
   "execution_count": null,
   "metadata": {},
   "outputs": [],
   "source": [
    "\"\"\" Below, we have provided a list of lists named L. Use nested iteration to save every string containing “b” into a new list named b_strings.\"\"\"\n",
    "\n",
    "L = [['apples', 'bananas', 'oranges', 'blueberries', 'lemons'], ['carrots', 'peas', 'cucumbers', 'green beans'], ['root beer', 'smoothies', 'cranberry juice']]\n",
    "\n",
    "b_strings = list()\n",
    "for lst in L:\n",
    "    for fruit in lst:\n",
    "        if \"b\" in fruit:\n",
    "            #print(fruit)\n",
    "            b_strings.append(fruit)\n",
    "            \n",
    "print(b_strings)  "
   ]
  },
  {
   "cell_type": "code",
   "execution_count": null,
   "metadata": {},
   "outputs": [],
   "source": [
    "\"\"\"To append all items contained in a nested mixed list of integers and list.\"\"\"\n",
    "nested1 = [1,2,[\"a\",\"b\",\"c\"],['d','e'],['f','g','h']]\n",
    "words_lst = []\n",
    "for x in nested1:\n",
    "    if type(x)== int:# type(x) is int\n",
    "        words_lst.append(x)\n",
    "        #print(x)\n",
    "        continue\n",
    "    for let in x:\n",
    "        words_lst.append(let)\n",
    "        #print(let)\n",
    "print(words_lst)"
   ]
  },
  {
   "cell_type": "code",
   "execution_count": null,
   "metadata": {},
   "outputs": [],
   "source": [
    "\"\"\"The variable nested contains a nested list. Assign ‘snake’ to the variable output using indexing. \"\"\"\n",
    "\n",
    "nested = [['dog', 'cat', 'horse'], ['frog', 'turtle', 'snake', 'gecko'], ['hamster', 'gerbil', 'rat', 'ferret']]\n",
    "output = nested[1][2]\n",
    "output"
   ]
  },
  {
   "cell_type": "code",
   "execution_count": null,
   "metadata": {},
   "outputs": [],
   "source": [
    "\"\"\"Below, a list of lists is provided. Use in and not in tests to create variables with Boolean values. See comments for further instructions.\"\"\"\n",
    "\n",
    "lst = [['apple', 'orange', 'banana'], [5, 6, 7, 8, 9.9, 10], ['green', 'yellow', 'purple', 'red']]\n",
    "\n",
    "#Test to see if 'yellow' is in the third list of lst. Save to variable ``yellow``\n",
    "yellow = \"yellow\" in lst[2]#[1]\n",
    "\n",
    "#Test to see if 4 is in the second list of lst. Save to variable ``four``\n",
    "four = 4 not in lst[1]\n",
    "\n",
    "#Test to see if 'orange' is in the first element of lst. Save to variable ``orange``\n",
    "orange = \"orange\" in lst[0]"
   ]
  },
  {
   "cell_type": "code",
   "execution_count": null,
   "metadata": {},
   "outputs": [],
   "source": [
    "\"\"\"Below, we’ve provided a list of lists. Use in statements to create variables with Boolean values.\"\"\"\n",
    "\n",
    "L = [[5, 8, 7], ['hello', 'hi', 'hola'], [6.6, 1.54, 3.99], ['small', 'large']]\n",
    "\n",
    "# Test if 'hola' is in the list L. Save to variable name test1\n",
    "test1 = 'hola' in L\n",
    "# Test if [5, 8, 7] is in the list L. Save to variable name test2\n",
    "test2 = [5, 8, 7] in L\n",
    "# Test if 6.6 is in the third element of list L. Save to variable name test3\n",
    "test3 = 6.6 in L[2]\n"
   ]
  },
  {
   "cell_type": "code",
   "execution_count": null,
   "metadata": {},
   "outputs": [],
   "source": [
    "\"\"\"Provided is a nested data structure. Follow the instructions in the comments below. Do not hard code.\"\"\"\n",
    "\n",
    "nested = {'data': ['finding', 23, ['exercises', 'hangout', 34]], 'window': ['part', 'whole', [], 'sum', ['math', 'calculus', 'algebra', 'geometry', 'statistics',['physics', 'chemistry', 'biology']]]}\n",
    "\n",
    "# Check to see if the string data is a key in nested, if it is, assign True to the variable data, otherwise assign False.\n",
    "if \"data\" in nested:\n",
    "    data = True\n",
    "else:\n",
    "    data = False\n",
    "print(\"Data in Nested:\", data)\n",
    "\n",
    "# Check to see if the integer 24 is in the value of the key data, if it is then assign to the variable twentyfour the value of True, otherwise False.\n",
    "if nested[\"data\"] == 24:\n",
    "    twentyfour = True\n",
    "else:\n",
    "    twentyfour = False\n",
    "print(\"Twentyfour is a value to key 'Data':\", twentyfour) \n",
    "\n",
    "# Check to see that the string 'whole' is not in the value of the key window. If it's not, then assign to the variable whole the value of True, otherwise False.\n",
    "if nested[\"window\"] == 'whole':\n",
    "    whole = True\n",
    "else:\n",
    "    whole = False\n",
    "print(\"Whole is a value to key 'window':\", whole)\n",
    "\n",
    "# Check to see if the string 'physics' is a key in the dictionary nested. If it is, assign to the variable physics, the value of True, otherwise False.\n",
    "if 'physics' in nested:\n",
    "    physics = True\n",
    "else:\n",
    "    physics = False\n",
    "print(\"Physics in Nested:\", physics)\n"
   ]
  },
  {
   "cell_type": "code",
   "execution_count": null,
   "metadata": {},
   "outputs": [],
   "source": [
    "\"\"\"The variable nested_d contains a nested dictionary with the gold medal counts for the top four countries in the past three \n",
    "Olympics. Assign the value of Great Britain’s gold medal count from the London Olympics to the variable london_gold. \n",
    "Use indexing. Do not hardcode. \"\"\"\n",
    "\n",
    "nested_d = {'Beijing':{'China':51, 'USA':36, 'Russia':22, 'Great Britain':19}, 'London':{'USA':46, 'China':38, 'Great Britain':29, 'Russia':22}, 'Rio':{'USA':35, 'Great Britain':22, 'China':20, 'Germany':13}}\n",
    "\n",
    "#print(nested_d.keys())\n",
    "london_gold = nested_d['London']['Great Britain']\n",
    "london_gold"
   ]
  },
  {
   "cell_type": "code",
   "execution_count": null,
   "metadata": {},
   "outputs": [],
   "source": [
    "\"\"\"Below, we have provided a nested dictionary. Index into the dictionary to create variables that we have listed\"\"\"\n",
    "\n",
    "sports = {'swimming': ['butterfly', 'breaststroke', 'backstroke', 'freestyle'], 'diving': ['springboard', 'platform', 'synchronized'], 'track': ['sprint', 'distance', 'jumps', 'throws'], 'gymnastics': {'women':['vault', 'floor', 'uneven bars', 'balance beam'], 'men': ['vault', 'parallel bars', 'floor', 'rings']}}\n",
    "\n",
    "# Assign the string 'backstroke' to the name v1\n",
    "v1 = sports[\"swimming\"][2]\n",
    "print(v1)\n",
    "# Assign the string 'platform' to the name v2\n",
    "v2 = sports[\"diving\"][1]\n",
    "print(v2)\n",
    "# Assign the list ['vault', 'floor', 'uneven bars', 'balance beam'] to the name v3\n",
    "v3 = sports['gymnastics']['women']\n",
    "print(v3)\n",
    "# Assign the string 'rings' to the name v4\n",
    "v4 = sports['gymnastics']['men'][-1]\n",
    "print(v4)"
   ]
  },
  {
   "cell_type": "code",
   "execution_count": null,
   "metadata": {},
   "outputs": [],
   "source": [
    "\"\"\"Given the dictionary, nested_d, save the medal count for the USA from all three Olympics in the dictionary to the list US_count.\"\"\"\n",
    "nested_d = {'Beijing':{'China':51, 'USA':36, 'Russia':22, 'Great Britain':19}, 'London':{'USA':46, 'China':38, 'Great Britain':29, 'Russia':22}, 'Rio':{'USA':35, 'Great Britain':22, 'China':20, 'Germany':13}}\n",
    "\n",
    "US_count = []\n",
    "for country in nested_d:\n",
    "    US_count.append(nested_d[country]['USA'])\n",
    "print(US_count)  "
   ]
  },
  {
   "cell_type": "code",
   "execution_count": null,
   "metadata": {},
   "outputs": [],
   "source": [
    "\"\"\"Iterate through the contents of l_of_l and assign the third element of sublist to a new list called third.\"\"\"\n",
    "l_of_l = [['purple', 'mauve', 'blue'], ['red', 'maroon', 'blood orange', 'crimson'], ['sea green', 'cornflower', 'lavender', 'indigo'], ['yellow', 'amarillo', 'mac n cheese', 'golden rod']]\n",
    "\n",
    "third = []\n",
    "for item in l_of_l:\n",
    "    third.append(item[2])\n",
    "print(third)"
   ]
  },
  {
   "cell_type": "code",
   "execution_count": null,
   "metadata": {},
   "outputs": [],
   "source": [
    "\"\"\"Given below is a list of lists of athletes. Create a list, t, that saves only the athlete’s name if it contains the \n",
    "letter “t”. If it does not contain the letter “t”, save the athlete name into list other.\"\"\"\n",
    "\n",
    "athletes = [['Phelps', 'Lochte', 'Schooling', 'Ledecky', 'Franklin'], ['Felix', 'Bolt', 'Gardner', 'Eaton'], ['Biles', 'Douglas', 'Hamm', 'Raisman', 'Mikulak', 'Dalton']]\n",
    "\n",
    "t = list()\n",
    "other = list()\n",
    "for athlete in athletes:\n",
    "    for letter in athlete:\n",
    "        if \"t\" in letter:\n",
    "            t.append(letter)\n",
    "        else:\n",
    "            other.append(letter)\n",
    "print(t) \n",
    "print(\"*\"*40)\n",
    "print(other)"
   ]
  }
 ],
 "metadata": {
  "kernelspec": {
   "display_name": "Python 3",
   "language": "python",
   "name": "python3"
  },
  "language_info": {
   "codemirror_mode": {
    "name": "ipython",
    "version": 3
   },
   "file_extension": ".py",
   "mimetype": "text/x-python",
   "name": "python",
   "nbconvert_exporter": "python",
   "pygments_lexer": "ipython3",
   "version": "3.7.1"
  }
 },
 "nbformat": 4,
 "nbformat_minor": 2
}
